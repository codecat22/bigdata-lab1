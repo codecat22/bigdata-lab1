{
 "cells": [
  {
   "cell_type": "code",
   "execution_count": 1,
   "id": "774c67fa-6509-4b18-aa07-d08ec709855f",
   "metadata": {},
   "outputs": [],
   "source": [
    "# resource used: https://towardsdatascience.com/sentiment-analysis-of-tweets-using-multinomial-naive-bayes-1009ed24276b"
   ]
  },
  {
   "cell_type": "code",
   "execution_count": 34,
   "id": "820c2e13-4388-4b8b-b5a2-3af97999601d",
   "metadata": {},
   "outputs": [],
   "source": [
    "import os\n",
    "import numpy as np\n",
    "import pandas as pd\n",
    "from sklearn.feature_extraction.text import TfidfTransformer, CountVectorizer\n",
    "from sklearn.naive_bayes import MultinomialNB"
   ]
  },
  {
   "cell_type": "code",
   "execution_count": 35,
   "id": "d3da4903-8a2c-4f52-bf35-db328fcbb87b",
   "metadata": {},
   "outputs": [],
   "source": [
    "# constants\n",
    "cwd = os.getcwd()\n",
    "\n",
    "train_data_path = cwd + '/prop_data/train.csv'\n",
    "test_data_path = cwd + '/prop_data/test.csv'\n",
    "eval_data_path = cwd + '/prop_data/evaluation.csv'"
   ]
  },
  {
   "cell_type": "code",
   "execution_count": 36,
   "id": "c974b35e-5209-4d2d-bcaf-f6a929d37cbb",
   "metadata": {},
   "outputs": [],
   "source": [
    "# import data\n",
    "df_train  = pd.read_csv(train_data_path)\n",
    "df_test  = pd.read_csv(test_data_path)\n",
    "df_eval  = pd.read_csv(eval_data_path)"
   ]
  },
  {
   "cell_type": "code",
   "execution_count": 37,
   "id": "e075815d-7ee1-4a5f-a4a4-450f5ceadfdb",
   "metadata": {},
   "outputs": [
    {
     "data": {
      "text/html": [
       "<div>\n",
       "<style scoped>\n",
       "    .dataframe tbody tr th:only-of-type {\n",
       "        vertical-align: middle;\n",
       "    }\n",
       "\n",
       "    .dataframe tbody tr th {\n",
       "        vertical-align: top;\n",
       "    }\n",
       "\n",
       "    .dataframe thead th {\n",
       "        text-align: right;\n",
       "    }\n",
       "</style>\n",
       "<table border=\"1\" class=\"dataframe\">\n",
       "  <thead>\n",
       "    <tr style=\"text-align: right;\">\n",
       "      <th></th>\n",
       "      <th>text</th>\n",
       "    </tr>\n",
       "    <tr>\n",
       "      <th>score</th>\n",
       "      <th></th>\n",
       "    </tr>\n",
       "  </thead>\n",
       "  <tbody>\n",
       "    <tr>\n",
       "      <th>0</th>\n",
       "      <td>3748</td>\n",
       "    </tr>\n",
       "    <tr>\n",
       "      <th>1</th>\n",
       "      <td>3752</td>\n",
       "    </tr>\n",
       "  </tbody>\n",
       "</table>\n",
       "</div>"
      ],
      "text/plain": [
       "       text\n",
       "score      \n",
       "0      3748\n",
       "1      3752"
      ]
     },
     "execution_count": 37,
     "metadata": {},
     "output_type": "execute_result"
    }
   ],
   "source": [
    "# check how balanced the training dataset is\n",
    "df_train.groupby(['score']).count()"
   ]
  },
  {
   "cell_type": "code",
   "execution_count": 38,
   "id": "5a1e10c1-ef93-4c9e-9b32-6c85c6b67030",
   "metadata": {},
   "outputs": [],
   "source": [
    "import re\n",
    "import string\n",
    "\n",
    "# remove emojis: https://stackoverflow.com/questions/33404752/removing-emojis-from-a-string-in-python\n",
    "def deEmojify(text):\n",
    "    regrex_pattern = re.compile(pattern = \"[\"\n",
    "        u\"\\U0001F600-\\U0001F64F\"  # emoticons\n",
    "        u\"\\U0001F300-\\U0001F5FF\"  # symbols & pictographs\n",
    "        u\"\\U0001F680-\\U0001F6FF\"  # transport & map symbols\n",
    "        u\"\\U0001F1E0-\\U0001F1FF\"  # flags (iOS)\n",
    "                           \"]+\", flags = re.UNICODE)\n",
    "    return regrex_pattern.sub(r'',text)\n",
    "\n",
    "# data preprocessing\n",
    "def preprocess_text(text):\n",
    "    # replacing url-s with the word 'url'\n",
    "    text = re.sub('((www\\.[^\\s]+)|(https?://[^\\s]+))','URL', text)\n",
    "    # replacing usernames-s with the word 'user'\n",
    "    text = re.sub('@[^\\s]+','USER', text)\n",
    "    # converting text to lowercase\n",
    "    text = text.lower()\n",
    "    # remove HTML tags\n",
    "    text = re.sub('<.*?>', '', text)\n",
    "    # remove multiple spaces\n",
    "    text = re.sub(' +',' ', text)\n",
    "    # remove punctuation marks\n",
    "    text = re.sub('[%s]' % re.escape(string.punctuation), ' ', text)\n",
    "    # replacing numbers with the word 'number'\n",
    "    text = re.sub(r'\\w*\\d+\\w*', 'number', text)\n",
    "\n",
    "    # text = deEmojify(text)\n",
    "    \n",
    "    return text.strip()\n",
    "\n",
    "tr_data = [preprocess_text(t) for t in df_train.text]\n",
    "test_data = [preprocess_text(t) for t in df_test.text]\n",
    "eval_data = [preprocess_text(t) for t in df_eval.text]"
   ]
  },
  {
   "cell_type": "code",
   "execution_count": 39,
   "id": "4cad860d-abd9-4d7c-8dac-f925214bb9b5",
   "metadata": {},
   "outputs": [],
   "source": [
    "# convert text data into a matrix of token counts\n",
    "# ref: https://scikit-learn.org/stable/modules/generated/sklearn.feature_extraction.text.CountVectorizer.html\n",
    "vectorizer = CountVectorizer(binary = True)\n",
    "\n",
    "x_train = vectorizer.fit_transform(tr_data).toarray()\n",
    "x_test = vectorizer.transform(test_data).toarray()\n",
    "x_eval = vectorizer.transform(eval_data).toarray()"
   ]
  },
  {
   "cell_type": "code",
   "execution_count": 40,
   "id": "d3faf9e5-1072-412e-9421-afe95498ca02",
   "metadata": {},
   "outputs": [
    {
     "data": {
      "text/plain": [
       "(7500, 34017)"
      ]
     },
     "execution_count": 40,
     "metadata": {},
     "output_type": "execute_result"
    }
   ],
   "source": [
    "x_train.shape"
   ]
  },
  {
   "cell_type": "code",
   "execution_count": 41,
   "id": "a758ab76-69f8-4e5a-9b85-bf5c97b262ba",
   "metadata": {},
   "outputs": [],
   "source": [
    "# transform a count matrix to a normalized tf-idf representation\n",
    "# ref: https://scikit-learn.org/stable/modules/generated/sklearn.feature_extraction.text.TfidfTransformer.html\n",
    "transformer = TfidfTransformer()\n",
    "x_train = transformer.fit_transform(x_train).toarray()\n",
    "x_test = transformer.transform(x_test).toarray()\n",
    "x_eval = transformer.transform(x_eval).toarray()"
   ]
  },
  {
   "cell_type": "code",
   "execution_count": 42,
   "id": "96c4de50-0a75-47d8-a99c-c6aa29520104",
   "metadata": {},
   "outputs": [],
   "source": [
    "# get output labels\n",
    "y_train = np.array(df_train.score)\n",
    "y_test = np.array(df_test.score)\n",
    "y_eval = np.array(df_eval.score)"
   ]
  },
  {
   "cell_type": "code",
   "execution_count": 43,
   "id": "fb7c4c42-12d6-4d4d-b7b6-48aec73bfff0",
   "metadata": {},
   "outputs": [
    {
     "data": {
      "text/plain": [
       "MultinomialNB()"
      ]
     },
     "execution_count": 43,
     "metadata": {},
     "output_type": "execute_result"
    }
   ],
   "source": [
    "# initialize and train classifier\n",
    "classifier = MultinomialNB()\n",
    "classifier.fit(x_train, y_train)"
   ]
  },
  {
   "cell_type": "code",
   "execution_count": 44,
   "id": "4717705e-2f0b-46ab-bb4b-bf7e2df4dd96",
   "metadata": {},
   "outputs": [
    {
     "name": "stdout",
     "output_type": "stream",
     "text": [
      "Accuracy (test): 83.36%\n"
     ]
    }
   ],
   "source": [
    "# evaluation on test data\n",
    "prediction_test = classifier.predict(x_test)\n",
    "accuracy_test = np.mean(prediction_test==y_test)\n",
    "print(\"Accuracy (test): \" + str(accuracy_test * 100) + \"%\")"
   ]
  },
  {
   "cell_type": "code",
   "execution_count": 45,
   "id": "f17b42a9-bcee-4b71-a300-084b140ccb21",
   "metadata": {},
   "outputs": [
    {
     "name": "stdout",
     "output_type": "stream",
     "text": [
      "Accuracy (evaluation): 81.14%\n"
     ]
    }
   ],
   "source": [
    "# evaluation on 'evaluation' data\n",
    "prediction_eval = classifier.predict(x_eval)\n",
    "accuracy_eval = np.mean(prediction_eval==y_eval)\n",
    "print(\"Accuracy (evaluation): \" + str(accuracy_eval * 100) + \"%\")"
   ]
  },
  {
   "cell_type": "code",
   "execution_count": null,
   "id": "00aebc3e-323c-4ea7-9eb6-8d95d08a86f8",
   "metadata": {},
   "outputs": [],
   "source": []
  }
 ],
 "metadata": {
  "kernelspec": {
   "display_name": "Python 3 (ipykernel)",
   "language": "python",
   "name": "python3"
  },
  "language_info": {
   "codemirror_mode": {
    "name": "ipython",
    "version": 3
   },
   "file_extension": ".py",
   "mimetype": "text/x-python",
   "name": "python",
   "nbconvert_exporter": "python",
   "pygments_lexer": "ipython3",
   "version": "3.8.10"
  }
 },
 "nbformat": 4,
 "nbformat_minor": 5
}
